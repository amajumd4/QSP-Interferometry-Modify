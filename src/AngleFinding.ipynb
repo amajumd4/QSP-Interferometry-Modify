{
  "cells": [
    {
      "cell_type": "code",
      "execution_count": null,
      "metadata": {
        "id": "buew3dkOZPoB"
      },
      "outputs": [
        {
          "ename": "",
          "evalue": "",
          "output_type": "error",
          "traceback": [
            "\u001b[1;31mThe kernel failed to start as the Python Environment 'gqspi (Python -1.-1.-1)' is no longer available. Consider selecting another kernel or refreshing the list of Python Environments."
          ]
        }
      ],
      "source": [
        "import csv\n",
        "import itertools as it\n",
        "import pandas as pd\n",
        "import numpy as np\n",
        "import sklearn.decomposition\n",
        "from tqdm import tqdm\n",
        "import re\n",
        "import string\n",
        "import random\n",
        "import matplotlib.pyplot as plt\n",
        "import scipy.integrate as integrate\n",
        "import numpy.lib.stride_tricks as tri\n",
        "import os\n",
        "from datetime import datetime\n",
        "\n",
        "import torch\n",
        "import torch.nn as nn\n",
        "import torch.nn.functional as F\n",
        "import torch.optim as optim\n",
        "import torch.utils.data as torch_data\n",
        "from torch.autograd import Variable\n",
        "import scipy.optimize\n",
        "from functools import partial\n",
        "from numpy import linalg as LA"
      ]
    },
    {
      "cell_type": "code",
      "execution_count": null,
      "metadata": {
        "id": "LHWBm6PAh_cN"
      },
      "outputs": [],
      "source": [
        "def mysinc(x):\n",
        "    return torch.sinc(x / torch.pi)"
      ]
    },
    {
      "cell_type": "code",
      "execution_count": null,
      "metadata": {
        "id": "4OT0FcWGTRbN"
      },
      "outputs": [],
      "source": [
        "def calc_qsp_coeff_tensor(phases):\n",
        "  # print(\"Entered: calc_qsp_coeff_tensor\")\n",
        "  # print(phases, degree)\n",
        "  # print(\"****************\")\n",
        "\n",
        "  degree = int((len(phases)-3)/2)\n",
        "  # print(\"degree is\", degree)\n",
        "\n",
        "  theta_list = torch.tensor(phases[:degree+1])\n",
        "  phi_list= torch.tensor(phases[degree+1:2*degree+2])\n",
        "  lambda0 = torch.tensor([phases[-1]])\n",
        "\n",
        "  # print(\"theta_list:\", theta_list)\n",
        "  # print(\"phi_list:\", phi_list)\n",
        "  # print(\"lambda0:\", lambda0)\n",
        "\n",
        "  pcoeff = torch.zeros(2 * degree + 1, dtype = torch.double)\n",
        "  qcoeff = torch.zeros(2 * degree + 1, dtype = torch.double)\n",
        "\n",
        "  if degree == 0:\n",
        "    pcoeff[0] = torch.exp(torch.tensor(1j*(phi_list[0] + lambda0[0])))*torch.cos(torch.tensor(theta_list[0]))\n",
        "    qcoeff[0] = torch.exp(torch.tensor(1j*lambda0[0]))*torch.sin(torch.tensor(theta_list[0]))\n",
        "  else:\n",
        "    theta_reduce = torch.tensor(theta_list[:-1])\n",
        "    phi_reduce = torch.tensor(phi_list[:-1])\n",
        "\n",
        "    phases_reduce = torch.cat((theta_reduce, phi_reduce, lambda0))\n",
        "\n",
        "    pcoeff_reduce, qcoeff_reduce = calc_qsp_coeff_tensor(phases_reduce)\n",
        "    # now compute the new coefficients from the old one\n",
        "    for idx in range(-degree, degree + 1):\n",
        "        # print(\"idx = \", idx)\n",
        "        if idx >= degree - 1:\n",
        "            # print(idx + degree - 2)\n",
        "            if idx - 1 >= 0:\n",
        "                # note the index in the RHS has to be idx+degree-2, instead of idx+degree-1 because there is also one negative index coefficient less.\n",
        "                pcoeff[idx + degree] = torch.exp(torch.tensor(1j*phi_list[-1]))*torch.cos(torch.tensor(theta_list[-1])) * pcoeff_reduce[idx + degree - 2]\n",
        "                qcoeff[idx + degree] = torch.sin(torch.tensor(theta_list[-1])) * pcoeff_reduce[idx + degree - 2]\n",
        "\n",
        "        elif idx <= -(degree - 1):\n",
        "            if idx + 1 <= 0:\n",
        "                pcoeff[idx + degree] = torch.exp(torch.tensor(1j*phi_list[-1]))*torch.sin(torch.tensor(theta_list[-1])) * qcoeff_reduce[idx + degree]\n",
        "                qcoeff[idx + degree] = -torch.cos(torch.tensor(theta_list[-1])) * qcoeff_reduce[idx + degree]\n",
        "\n",
        "        elif abs(idx) <= degree - 2:\n",
        "            pcoeff[idx + degree] = torch.exp(torch.tensor(1j*phi_list[-1]))*(torch.cos(torch.tensor(theta_list[-1])) * pcoeff_reduce[idx + degree - 2] \\\n",
        "                                + torch.sin(torch.tensor(theta_list[-1])) * qcoeff_reduce[idx + degree])\n",
        "            qcoeff[idx + degree] = torch.sin(torch.tensor(theta_list[-1])) * pcoeff_reduce[idx + degree - 2] \\\n",
        "                                - torch.cos(torch.tensor(theta_list[-1])) * qcoeff_reduce[idx + degree]\n",
        "\n",
        "        else:\n",
        "            print(\"something wrong with indexing. check.\")\n",
        "\n",
        "  return pcoeff, qcoeff"
      ]
    },
    {
      "cell_type": "code",
      "execution_count": null,
      "metadata": {
        "id": "iJGts-NTiQo6"
      },
      "outputs": [],
      "source": [
        "def signal_poly_coeff(phases, K, sigma):\n",
        "    # print(\"Entered: signal_poly_coeff\")\n",
        "    # print(phases, K, sigma, degree)\n",
        "    # print(\"****************\")\n",
        "\n",
        "    # make torch tensors to store the coefficients of the GQSP\n",
        "    degree = int((len(phases)-3)/2)\n",
        "    # print(\"degree in signal_poly_coeff\", degree)\n",
        "\n",
        "    pcoeff = torch.zeros(2 * degree + 1, dtype = torch.complex64)\n",
        "    qcoeff = torch.zeros(2 * degree + 1, dtype = torch.complex64)\n",
        "    ccoeff = torch.zeros(2 * degree + 1, dtype = torch.complex64)\n",
        "\n",
        "    # compute the GQSP coefficients using phases\n",
        "\n",
        "    pcoeff, qcoeff = calc_qsp_coeff_tensor(phases)\n",
        "\n",
        "    for s in range(-degree, degree + 1):\n",
        "        cs = 0.0\n",
        "        for t in range(-degree, degree + 1):\n",
        "            for n in range(-degree, degree + 1):\n",
        "                 for nq in range(-degree, degree + 1):\n",
        "                    if abs(n + 2 * s) <= degree and abs(nq + 2 * t) <= degree:\n",
        "                        cs += (pcoeff[n + degree] * torch.conj(pcoeff[nq + degree]) + qcoeff[n + degree] * torch.conj(qcoeff[nq + degree])) \\\n",
        "                            * (torch.conj(pcoeff[n + 2 * s + degree]) * pcoeff[nq + 2 * t + degree] + torch.conj(qcoeff[n + 2 * s + degree]) * qcoeff[nq + 2 * t + degree]) \\\n",
        "                            * torch.exp(torch.tensor(-K ** 2 * sigma ** 2 * (t - s) ** 2))\n",
        "\n",
        "        ccoeff[s + degree] = cs\n",
        "    # print(\"ccoeff\", ccoeff)\n",
        "    return ccoeff"
      ]
    },
    {
      "cell_type": "code",
      "execution_count": null,
      "metadata": {
        "id": "bKhUzaRvzh4S"
      },
      "outputs": [],
      "source": [
        "# signal_poly_coeff(phases, K, sigma, degree)"
      ]
    },
    {
      "cell_type": "code",
      "execution_count": null,
      "metadata": {
        "id": "tudkzzD6e8h-"
      },
      "outputs": [],
      "source": [
        "def loss_fn_exact(phases, beta_th_p, beta_th_n, K, sigma, flag_callback = False):\n",
        "\n",
        "    degree = int((len(phases)-3)/2)\n",
        "    # make torch tensors to store the coefficients of the GQSP\n",
        "\n",
        "    #initialize the coefficient vectors\n",
        "    #for even degree, p & q have 2d+1 terms, for odd degree, 2d terms\n",
        "    pcoeff = torch.zeros(2 * degree + 1, dtype = torch.complex64)\n",
        "    qcoeff = torch.zeros(2 * degree + 1, dtype = torch.complex64)\n",
        "\n",
        "    # compute the GQSP coefficients using phases\n",
        "\n",
        "    pcoeff, qcoeff = calc_qsp_coeff_tensor(phases)\n",
        "\n",
        "    # compute p_err from the coefficients analytically\n",
        "    p_err = 0.0\n",
        "    for s in range(-2 * degree, 2 * degree + 1):\n",
        "\n",
        "      # this is range of integration for [-pi / 2k, pi / 2k]\n",
        "      Hs = mysinc(torch.tensor(torch.pi * s)) \\\n",
        "      + 1j*(torch.exp(torch.tensor(1j*2*K * beta_th_p*s)) - torch.exp(torch.tensor(1j*2*K * beta_th_n*s)))\n",
        "\n",
        "      cs = 0.0\n",
        "      for n in range(-degree, degree + 1):\n",
        "          if abs(n + s) <= degree:\n",
        "              for mp in range(-degree, degree + 1):\n",
        "                  for nq in range(-degree, degree + 1):\n",
        "                      cs += (pcoeff[n + degree] * torch.conj(pcoeff[nq + degree]) + qcoeff[n + degree] * torch.conj(qcoeff[nq + degree])) \\\n",
        "                      * (torch.conj(pcoeff[n + s + degree]) * pcoeff[mp + degree] + torch.conj(qcoeff[n + s + degree]) * qcoeff[mp + degree]) \\\n",
        "                      * torch.exp(torch.tensor(-0.25 * K ** 2 * sigma ** 2 * (mp - nq - s) ** 2))\n",
        "\n",
        "      p_err += cs * Hs\n",
        "    p_err = p_err + K * (beta_th_p - beta_th_n) / torch.pi\n",
        "    if flag_callback:\n",
        "        print(\" => \" + str(datetime.now()) + \": loss = \", p_err.item(), \"  Phases = \", phases, \" Ccoeff = \", signal_poly_coeff(phases, K, sigma))\n",
        "    # print(\"p_err\", p_err)\n",
        "    return p_err.real"
      ]
    },
    {
      "cell_type": "code",
      "execution_count": null,
      "metadata": {
        "colab": {
          "base_uri": "https://localhost:8080/"
        },
        "id": "LiuearjXaGQd",
        "outputId": "6e627f95-9ff6-4a8c-be7b-ac821bdae187"
      },
      "outputs": [],
      "source": [
        "np.random.seed()\n",
        "\n",
        "thresh = 1e-5\n",
        "tol = 1e-8\n",
        "# torch.manual_seed(0)\n",
        "\n",
        "K = 1 / 2048  #kappa\n",
        "sigma = 1\n",
        "degree_list = [7]\n",
        "num_trials = 1\n",
        "eta = 0.25\n",
        "\n",
        "beta_th_p = eta * np.pi / K #threshold for positive beta values\n",
        "beta_th_n = -0.5*eta * np.pi / K #threshold for negative beta values\n",
        "\n",
        "d_best_results = []\n",
        "d_best_phases = []\n",
        "d_best_losses = []\n",
        "\n",
        "opt_method = 'Nelder-Mead'\n",
        "options = {'fatol': thresh, 'xatol': thresh}\n",
        "\n",
        "for degree in degree_list:\n",
        "    print(\"Degree\", degree)\n",
        "    best_results = []\n",
        "    best_phases = []\n",
        "    best_losses = []\n",
        "    for trial in range(num_trials):\n",
        "        print(\"Trial\", trial + 1)\n",
        "        # Try the protocol with GQSP\n",
        "        # generates a random list of 2d+1 angles *(b/w 0 to 2pi)\n",
        "\n",
        "        #initialize the list of theta, phi and lambda0 angle vector lenght: (d+1, d+1, 1)\n",
        "        thetas = torch.rand(degree + 1) * 2 * torch.pi\n",
        "        phis = torch.rand(degree + 1) * 2 * torch.pi\n",
        "        lambda0 = torch.rand(1) * 2 * torch.pi\n",
        "        # print(\"initial thetas:\", thetas)\n",
        "        # print(\"initial phis:\", phis)\n",
        "        # print(\"initial lambda0:\", lambda0)\n",
        "        angles0 = torch.cat((thetas, phis, lambda0))\n",
        "        print(\"angles:\", angles0)\n",
        "\n",
        "        # This is to use the original loss function directly\n",
        "        new_callback = partial(loss_fn_exact, beta_th_p = beta_th_p, beta_th_n = beta_th_n,  K = K, sigma = sigma, flag_callback = True)\n",
        "        res = scipy.optimize.minimize(loss_fn_exact, angles0, (beta_th_p, beta_th_n, K, sigma),\n",
        "                                      method = opt_method, tol = thresh, callback = new_callback, options = options)\n",
        "        best_results.append(res)\n",
        "        best_phases.append(res.x)\n",
        "        best_losses.append(res.fun)\n",
        "    best_losses = np.array(best_losses)\n",
        "    d_best_results.append(best_results)\n",
        "    d_best_phases.append(best_phases)\n",
        "    d_best_losses.append(best_losses)\n",
        "\n",
        "for i, phases in enumerate(d_best_phases):\n",
        "    print(\"Degree\", degree_list[i])\n",
        "    best_index = np.argmin(d_best_losses[i])\n",
        "    best_loss = d_best_losses[i][best_index]\n",
        "    best_phases = phases[best_index]\n",
        "    print(\"Best loss for degree \" + str(degree_list[i]) + \":\", best_loss)\n",
        "    print(\"Best phases for degree \" + str(degree_list[i]) + \":\", best_phases)\n",
        "    theta_list = phases[0][:degree_list[i]+1]\n",
        "    phi_list= phases[0][degree_list[i]+1:2*degree_list[i]+2]\n",
        "    lambda0 = [phases[0][-1]]\n",
        "    print(\"theta_list:\", theta_list)\n",
        "    print(\"phi_list:\", phi_list)\n",
        "    print(\"lambda0:\", lambda0)\n"
      ]
    }
  ],
  "metadata": {
    "colab": {
      "provenance": []
    },
    "kernelspec": {
      "display_name": "gqspi",
      "language": "python",
      "name": "python3"
    },
    "language_info": {
      "codemirror_mode": {
        "name": "ipython",
        "version": 3
      },
      "file_extension": ".py",
      "mimetype": "text/x-python",
      "name": "python",
      "nbconvert_exporter": "python",
      "pygments_lexer": "ipython3",
      "version": "-1.-1.-1"
    }
  },
  "nbformat": 4,
  "nbformat_minor": 0
}
